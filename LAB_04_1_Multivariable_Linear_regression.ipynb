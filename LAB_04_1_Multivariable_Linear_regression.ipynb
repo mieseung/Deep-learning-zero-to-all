{
  "nbformat": 4,
  "nbformat_minor": 0,
  "metadata": {
    "colab": {
      "name": "LAB-04-1 Multivariable Linear regression.ipynb",
      "provenance": [],
      "collapsed_sections": [],
      "authorship_tag": "ABX9TyP5N1hbwdlp1SRaBOc826ZH"
    },
    "kernelspec": {
      "name": "python3",
      "display_name": "Python 3"
    },
    "language_info": {
      "name": "python"
    }
  },
  "cells": [
    {
      "cell_type": "code",
      "metadata": {
        "id": "9itBjyZkoumC"
      },
      "source": [
        "import torch"
      ],
      "execution_count": 1,
      "outputs": []
    },
    {
      "cell_type": "markdown",
      "metadata": {
        "id": "EdG5QbxPpG2g"
      },
      "source": [
        "# `torch.optim()` 을 사용하는 경우"
      ]
    },
    {
      "cell_type": "code",
      "metadata": {
        "colab": {
          "base_uri": "https://localhost:8080/"
        },
        "id": "JKcw57fapGa6",
        "outputId": "5b260641-7b71-4a92-c9ac-ad703e29c11c"
      },
      "source": [
        "# data\n",
        "x_train = torch.FloatTensor([[73, 70, 75],\n",
        "                             [93, 88, 93],\n",
        "                             [89, 91, 90],\n",
        "                             [96, 98, 100],\n",
        "                             [73, 66, 70]])\n",
        "y_train = torch.FloatTensor([[152], [185], [180], [196], [142]] )\n",
        "\n",
        "# initialize model\n",
        "W = torch.zeros((3, 1), requires_grad= True)\n",
        "b = torch.zeros(1, requires_grad = True)\n",
        "\n",
        "# optimizer 설정\n",
        "optimizer = torch.optim.SGD([W, b], lr = 1e-5)\n",
        "\n",
        "nb_epochs = 20\n",
        "for epoch in range(nb_epochs + 1):\n",
        "\n",
        "  # compute H(x)\n",
        "  hypothesis = x_train.matmul(W) + b # or .mm or @\n",
        "\n",
        "  # compute cost\n",
        "  cost = torch.mean((hypothesis - y_train)**2)\n",
        "\n",
        "  # compute H(x) with cost\n",
        "  optimizer.zero_grad()\n",
        "  cost.backward()\n",
        "  optimizer.step()\n",
        "\n",
        "  print('Epoch {:4d} / {} hypothesis: {} Cost: {:.6f}'.format(\n",
        "      epoch, nb_epochs, hypothesis.squeeze().detach(), cost.item()\n",
        "  ))"
      ],
      "execution_count": 3,
      "outputs": [
        {
          "output_type": "stream",
          "text": [
            "Epoch    0 / 20 hypothesis: tensor([0., 0., 0., 0., 0.]) Cost: 29661.800781\n",
            "Epoch    1 / 20 hypothesis: tensor([63.8962, 80.3046, 79.0990, 86.1435, 61.2592]) Cost: 9498.385742\n",
            "Epoch    2 / 20 hypothesis: tensor([100.0450, 125.7364, 123.8485, 134.8784,  95.9162]) Cost: 3044.811035\n",
            "Epoch    3 / 20 hypothesis: tensor([120.4959, 151.4391, 149.1650, 162.4497, 115.5233]) Cost: 979.255737\n",
            "Epoch    4 / 20 hypothesis: tensor([132.0659, 165.9803, 163.4875, 178.0478, 126.6160]) Cost: 318.146179\n",
            "Epoch    5 / 20 hypothesis: tensor([138.6116, 174.2069, 171.5901, 186.8722, 132.8916]) Cost: 106.548843\n",
            "Epoch    6 / 20 hypothesis: tensor([142.3149, 178.8612, 176.1741, 191.8644, 136.4422]) Cost: 38.823315\n",
            "Epoch    7 / 20 hypothesis: tensor([144.4100, 181.4944, 178.7672, 194.6886, 138.4510]) Cost: 17.146437\n",
            "Epoch    8 / 20 hypothesis: tensor([145.5954, 182.9841, 180.2341, 196.2863, 139.5877]) Cost: 10.207827\n",
            "Epoch    9 / 20 hypothesis: tensor([146.2660, 183.8270, 181.0639, 197.1900, 140.2308]) Cost: 7.986453\n",
            "Epoch   10 / 20 hypothesis: tensor([146.6455, 184.3040, 181.5332, 197.7012, 140.5948]) Cost: 7.274881\n",
            "Epoch   11 / 20 hypothesis: tensor([146.8603, 184.5739, 181.7986, 197.9903, 140.8009]) Cost: 7.046535\n",
            "Epoch   12 / 20 hypothesis: tensor([146.9818, 184.7267, 181.9486, 198.1538, 140.9176]) Cost: 6.972839\n",
            "Epoch   13 / 20 hypothesis: tensor([147.0507, 184.8133, 182.0334, 198.2462, 140.9838]) Cost: 6.948692\n",
            "Epoch   14 / 20 hypothesis: tensor([147.0897, 184.8623, 182.0812, 198.2983, 141.0213]) Cost: 6.940364\n",
            "Epoch   15 / 20 hypothesis: tensor([147.1118, 184.8901, 182.1081, 198.3278, 141.0427]) Cost: 6.937083\n",
            "Epoch   16 / 20 hypothesis: tensor([147.1244, 184.9059, 182.1232, 198.3443, 141.0549]) Cost: 6.935461\n",
            "Epoch   17 / 20 hypothesis: tensor([147.1315, 184.9150, 182.1316, 198.3536, 141.0620]) Cost: 6.934377\n",
            "Epoch   18 / 20 hypothesis: tensor([147.1357, 184.9202, 182.1362, 198.3587, 141.0661]) Cost: 6.933450\n",
            "Epoch   19 / 20 hypothesis: tensor([147.1381, 184.9232, 182.1387, 198.3615, 141.0686]) Cost: 6.932520\n",
            "Epoch   20 / 20 hypothesis: tensor([147.1395, 184.9250, 182.1400, 198.3630, 141.0701]) Cost: 6.931665\n"
          ],
          "name": "stdout"
        }
      ]
    },
    {
      "cell_type": "markdown",
      "metadata": {
        "id": "sw6LCkgmrVTw"
      },
      "source": [
        "### nn.Module\n",
        "클래스 만들 때 상속하여 인공신경망을 편리하게 만들 수 있음.\n",
        "- `self.linear`에 입력 차원을 명시\n",
        "- `forward()`에서 hypothesis를 어떻게 계산하는지만 알려주면 됨.\n",
        "\n",
        "### pytorch의 cost function\n",
        "ex) `torch.nn.functional.mse_loss`\n",
        "- torch.nn.functional에서 제공하는 loss function\n",
        "- 쉽게 다른 loss function과 교체 가능함.\n",
        "- 직접 정의하는 것보다 디버깅에 유리함."
      ]
    },
    {
      "cell_type": "code",
      "metadata": {
        "colab": {
          "base_uri": "https://localhost:8080/"
        },
        "id": "AbTuum7Nr1AM",
        "outputId": "fd9640b8-01c6-4d27-a9d9-4ab6762ddf8f"
      },
      "source": [
        "import torch.nn as nn\n",
        "import torch.nn.functional as F\n",
        "\n",
        "class MultivariateLinearRegressionModel(nn.Module):\n",
        "  def __init__(self):\n",
        "    super().__init__()\n",
        "    self.linear = nn.Linear(3, 1)\n",
        "\n",
        "  def forward(self, x):\n",
        "    return self.linear(x)\n",
        "\n",
        "# data\n",
        "x_train = torch.FloatTensor([[73, 70, 75],\n",
        "                             [93, 88, 93],\n",
        "                             [89, 91, 90],\n",
        "                             [96, 98, 100],\n",
        "                             [73, 66, 70]])\n",
        "y_train = torch.FloatTensor([[152], [185], [180], [196], [142]] )\n",
        "\n",
        "# initialize model\n",
        "model = MultivariateLinearRegressionModel()\n",
        "\n",
        "# optimizer 설정\n",
        "optimizer = torch.optim.SGD(model.parameters(), lr = 1e-5)\n",
        "\n",
        "nb_epochs = 20\n",
        "for epoch in range(nb_epochs + 1):\n",
        "\n",
        "  # compute H(x)\n",
        "  prediction = model(x_train) # model.forward(x_train)과 동일\n",
        "\n",
        "  # compute cost\n",
        "  cost = F.mse_loss(prediction, y_train)\n",
        "\n",
        "  # compute H(x) with cost\n",
        "  optimizer.zero_grad()\n",
        "  cost.backward()\n",
        "  optimizer.step()\n",
        "\n",
        "  print('Epoch {:4d} / {} hypothesis: {} Cost: {:.6f}'.format(\n",
        "      epoch, nb_epochs, hypothesis.squeeze().detach(), cost.item()\n",
        "  ))"
      ],
      "execution_count": 6,
      "outputs": [
        {
          "output_type": "stream",
          "text": [
            "Epoch    0 / 20 hypothesis: tensor([-58.3596, -72.7358, -72.0764, -79.3515, -54.4558]) Cost: 33960.917969\n",
            "Epoch    1 / 20 hypothesis: tensor([-58.3596, -72.7358, -72.0764, -79.3515, -54.4558]) Cost: 10880.221680\n",
            "Epoch    2 / 20 hypothesis: tensor([-58.3596, -72.7358, -72.0764, -79.3515, -54.4558]) Cost: 3492.928955\n",
            "Epoch    3 / 20 hypothesis: tensor([-58.3596, -72.7358, -72.0764, -79.3515, -54.4558]) Cost: 1128.524170\n",
            "Epoch    4 / 20 hypothesis: tensor([-58.3596, -72.7358, -72.0764, -79.3515, -54.4558]) Cost: 371.761292\n",
            "Epoch    5 / 20 hypothesis: tensor([-58.3596, -72.7358, -72.0764, -79.3515, -54.4558]) Cost: 129.547119\n",
            "Epoch    6 / 20 hypothesis: tensor([-58.3596, -72.7358, -72.0764, -79.3515, -54.4558]) Cost: 52.020592\n",
            "Epoch    7 / 20 hypothesis: tensor([-58.3596, -72.7358, -72.0764, -79.3515, -54.4558]) Cost: 27.204998\n",
            "Epoch    8 / 20 hypothesis: tensor([-58.3596, -72.7358, -72.0764, -79.3515, -54.4558]) Cost: 19.260071\n",
            "Epoch    9 / 20 hypothesis: tensor([-58.3596, -72.7358, -72.0764, -79.3515, -54.4558]) Cost: 16.714815\n",
            "Epoch   10 / 20 hypothesis: tensor([-58.3596, -72.7358, -72.0764, -79.3515, -54.4558]) Cost: 15.897875\n",
            "Epoch   11 / 20 hypothesis: tensor([-58.3596, -72.7358, -72.0764, -79.3515, -54.4558]) Cost: 15.634096\n",
            "Epoch   12 / 20 hypothesis: tensor([-58.3596, -72.7358, -72.0764, -79.3515, -54.4558]) Cost: 15.547318\n",
            "Epoch   13 / 20 hypothesis: tensor([-58.3596, -72.7358, -72.0764, -79.3515, -54.4558]) Cost: 15.517233\n",
            "Epoch   14 / 20 hypothesis: tensor([-58.3596, -72.7358, -72.0764, -79.3515, -54.4558]) Cost: 15.505234\n",
            "Epoch   15 / 20 hypothesis: tensor([-58.3596, -72.7358, -72.0764, -79.3515, -54.4558]) Cost: 15.499094\n",
            "Epoch   16 / 20 hypothesis: tensor([-58.3596, -72.7358, -72.0764, -79.3515, -54.4558]) Cost: 15.494822\n",
            "Epoch   17 / 20 hypothesis: tensor([-58.3596, -72.7358, -72.0764, -79.3515, -54.4558]) Cost: 15.491110\n",
            "Epoch   18 / 20 hypothesis: tensor([-58.3596, -72.7358, -72.0764, -79.3515, -54.4558]) Cost: 15.487599\n",
            "Epoch   19 / 20 hypothesis: tensor([-58.3596, -72.7358, -72.0764, -79.3515, -54.4558]) Cost: 15.484128\n",
            "Epoch   20 / 20 hypothesis: tensor([-58.3596, -72.7358, -72.0764, -79.3515, -54.4558]) Cost: 15.480688\n"
          ],
          "name": "stdout"
        }
      ]
    }
  ]
}